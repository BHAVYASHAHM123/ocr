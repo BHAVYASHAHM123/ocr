{
 "cells": [
  {
   "cell_type": "code",
   "execution_count": 11,
   "metadata": {},
   "outputs": [],
   "source": [
    "#Importing libraries to extracts text from images and documents \n",
    "\n",
    "import pytesseract\n",
    "pytesseract.pytesseract.tesseract_cmd=r'C:\\Program Files\\Tesseract-OCR\\tesseract.exe'"
   ]
  },
  {
   "cell_type": "code",
   "execution_count": 5,
   "metadata": {},
   "outputs": [],
   "source": [
    "# importing the library for downloading and reading the images\n",
    "import cv2"
   ]
  },
  {
   "cell_type": "code",
   "execution_count": 52,
   "metadata": {},
   "outputs": [],
   "source": [
    "# reading one image\n",
    "img = cv2.imread('images/pan.jpg')"
   ]
  },
  {
   "cell_type": "code",
   "execution_count": 55,
   "metadata": {},
   "outputs": [],
   "source": [
    "# displaying the image\n",
    "cv2.imshow('Show Sample Image', img)\n",
    "\n",
    "# to close the pop up image screen \n",
    "cv2.waitKey(0)\n",
    "\n",
    "# Destroy all window after wait key\n",
    "cv2.destroyAllWindows()"
   ]
  },
  {
   "cell_type": "code",
   "execution_count": 54,
   "metadata": {},
   "outputs": [
    {
     "name": "stdout",
     "output_type": "stream",
     "text": [
      "INCOMETAX DEPARTMENT <%> © GOVT.OF INDIA\n",
      "RAHUL GUPTA\n",
      "SURESH GUPTA\n",
      "\n",
      "23/11/1974\n",
      "Permanent Account Number\n",
      "ABCDE1234F\n",
      "\n",
      "SAMPLE - IMMIHELP.COM\n",
      "\n",
      "Signature\n",
      "\n",
      "\n"
     ]
    }
   ],
   "source": [
    "# extracting the text from the image using pyesseract\n",
    "text = pytesseract.image_to_string(img)\n",
    "print(text)"
   ]
  },
  {
   "cell_type": "code",
   "execution_count": 49,
   "metadata": {},
   "outputs": [],
   "source": [
    "import json"
   ]
  },
  {
   "cell_type": "code",
   "execution_count": 51,
   "metadata": {},
   "outputs": [],
   "source": [
    "# Storing the extracted text from the image into json\n",
    "json_object = json.dumps(text, indent=4)\n",
    " \n",
    "# Writing to sample.json\n",
    "with open(\"pancard.json\", \"w\") as outfile:\n",
    "    outfile.write(json_object)"
   ]
  },
  {
   "cell_type": "code",
   "execution_count": null,
   "metadata": {},
   "outputs": [],
   "source": []
  }
 ],
 "metadata": {
  "kernelspec": {
   "display_name": "analysis",
   "language": "python",
   "name": "python3"
  },
  "language_info": {
   "codemirror_mode": {
    "name": "ipython",
    "version": 3
   },
   "file_extension": ".py",
   "mimetype": "text/x-python",
   "name": "python",
   "nbconvert_exporter": "python",
   "pygments_lexer": "ipython3",
   "version": "3.10.9"
  },
  "orig_nbformat": 4
 },
 "nbformat": 4,
 "nbformat_minor": 2
}
